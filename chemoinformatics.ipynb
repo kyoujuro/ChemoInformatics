{
 "cells": [
  {
   "cell_type": "code",
   "execution_count": null,
   "id": "2877525c",
   "metadata": {},
   "outputs": [],
   "source": [
    "!pip install pubchempy\n",
    "!pip install rdkit==2022.3.5\n",
    "from rdkit import rdBase, Chem\n",
    "print(rdBase.rdkitVersion)"
   ]
  },
  {
   "cell_type": "code",
   "execution_count": null,
   "id": "3634e578",
   "metadata": {},
   "outputs": [],
   "source": [
    "import pubchempy as pcp\n",
    "quercetine = pcp.get_compounds('quercetine', 'name')\n",
    "quercetine_smiles = quercetine[0].isomeric_smiles\n",
    "quercetine_smiles"
   ]
  },
  {
   "cell_type": "code",
   "execution_count": null,
   "id": "54dac7c1",
   "metadata": {
    "scrolled": true
   },
   "outputs": [],
   "source": [
    "quercetine[0].atoms"
   ]
  },
  {
   "cell_type": "code",
   "execution_count": null,
   "id": "ddee1bc6",
   "metadata": {},{
 "cells": [
  {
   "cell_type": "code",
   "execution_count": null,
   "id": "2877525c",
   "metadata": {},
   "outputs": [],
   "source": [
    "!pip install pubchempy\n",
    "!pip install rdkit==2022.3.5\n",
    "from rdkit import rdBase, Chem\n",
    "print(rdBase.rdkitVersion)"
   ]
  },
  {
   "cell_type": "code",
   "execution_count": null,
   "id": "3634e578",
   "metadata": {},
   "outputs": [],
   "source": [
    "import pubchempy as pcp\n",
    "quercetine = pcp.get_compounds('quercetine', 'name')\n",
    "quercetine_smiles = quercetine[0].isomeric_smiles\n",
    "quercetine_smiles"
   ]
  },
  {
   "cell_type": "code",
   "execution_count": null,
   "id": "54dac7c1",
   "metadata": {
    "scrolled": true
   },
   "outputs": [],
   "source": [
    "quercetine[0].atoms"
   ]
  },
  {
   "cell_type": "code",
   "execution_count": null,
   "id": "ddee1bc6",
   "metadata": {},
   "outputs": [],
   "source": [
    "from rdkit.Chem import Draw\n",
    "from rdkit.Chem.Draw import IPythonConsole\n",
    "from IPython.display import display\n",
    "from IPython.display import Image\n",{
 "cells": [
  {
   "cell_type": "code",
   "execution_count": null,
   "id": "2877525c",
   "metadata": {},
   "outputs": [],
   "source": [
    "!pip install pubchempy\n",
    "!pip install rdkit==2022.3.5\n",
    "from rdkit import rdBase, Chem\n",
    "print(rdBase.rdkitVersion)"
   ]
  },
  {
   "cell_type": "code",
   "execution_count": null,
   "id": "3634e578",
   "metadata": {},
   "outputs": [],
   "source": [
    "import pubchempy as pcp\n",
    "quercetine = pcp.get_compounds('quercetine', 'name')\n",
    "quercetine_smiles = quercetine[0].isomeric_smiles\n",
    "quercetine_smiles"
   ]
  },
  {
   "cell_type": "code",
   "execution_count": null,
   "id": "54dac7c1",
   "metadata": {
    "scrolled": true
   },
   "outputs": [],
   "source": [
    "quercetine[0].atoms"
   ]
  },
  {
   "cell_type": "code",
   "execution_count": null,
   "id": "ddee1bc6",
   "metadata": {},
   "outputs": [],
   "source": [
    "from rdkit.Chem import Draw\n",
    "from rdkit.Chem.Draw import IPythonConsole\n",
    "from IPython.display import display\n",
    "from IPython.display import Image\n",
    "\n",
    "compoud = \"quercetine\"\n",
    "pcp_compoud = pcp.get_compounds(compoud, 'name')\n",
    "compoud_smiles = pcp_compoud[0].isomeric_smiles\n",
    "mol = Chem.MolFromSmiles(compoud_smiles)\n",
    "Draw.MolsToGridImage([mol])"
   ]
  },
  {
   "cell_type": "code",
   "execution_count": null,
   "id": "f0e08cef",
   "metadata": {},
   "outputs": [],
   "source": [
    "for atom in mol.GetAtoms():\n",
    "    atom.SetProp('molAtomMapNumber', str(atom.GetIdx()))\n",
    "Draw.MolsToGridImage([mol])"
   ]
  },
  {
   "cell_type": "code",
   "execution_count": null,
   "id": "36c19f86",
   "metadata": {},
   "outputs": [],
   "source": [
    "import pubchempy as pcp\n",
    "quercetine = pcp.get_compounds('benzen', 'name')\n",
    "quercetine_smiles = quercetine[0].isomeric_smiles\n",
    "quercetine_smiles"
   ]
  },
  {
   "cell_type": "code",
   "execution_count": null,
   "id": "e7278cba",
   "metadata": {},
   "outputs": [],
   "source": [
    "pcp_compoud = pcp.get_compounds('benzen', 'name')\n",
    "compoud_smiles = pcp_compoud[0].isomeric_smiles\n",
    "mol = Chem.MolFromSmiles(compoud_smiles)\n",
    "Draw.MolsToGridImage([mol])"
   ]
  },
  {
   "cell_type": "code",
   "execution_count": null,
   "id": "ad1e0996",
   "metadata": {},
   "outputs": [],
   "source": [
    "Chem.AddHs(mol, addCoords=True)"
   ]
  },
  {
   "cell_type": "code",
   "execution_count": null,
   "id": "dcd17833",
   "metadata": {},
   "outputs": [],
   "source": [
    "mol = Chem.MolFromSmiles('CN[C@H](C)[C@H](O)c1ccccc1')"
   ]
  },
  {
   "cell_type": "code",
   "execution_count": null,
   "id": "707427a1",
   "metadata": {},
   "outputs": [],
   "source": [
    "view = py3Dmol.view(width=680, height=250, query='cid:5950', viewergrid=(1,3), linked=False)\n",
    "view.setStyle({'line': {'linewidth': 5}}, viewer=(0,0))\n",
    "view.setStyle({'stick': {}}, viewer=(0,1))\n",
    "view.setStyle({'sphere': {}}, viewer=(0,2))\n",
    "view.setBackgroundColor('#ebf4fb', viewer=(0,0))\n",
    "view.setBackgroundColor('#f9f4fb', viewer=(0,1))\n",
    "view.setBackgroundColor('#e1e1e1', viewer=(0,2))\n",
    "view.show()\n",
    "view.png()"
   ]
  },
  {
   "cell_type": "code",
   "execution_count": null,
   "id": "4a209200",
   "metadata": {},
   "outputs": [],
   "source": [
    "view = py3Dmol.view(width=680, height=480, query='pdb:1zni', viewergrid=(2,2), linked=False)\n",
    "view.setStyle({'cartoon': {'color': 'spectrum'}}, viewer=(0,0))\n",
    "view.setStyle({'chain': 'A'}, {'cartoon': {'color': '#4aa6ff', 'style': 'oval'}}, viewer=(0,1))\n",
    "view.setStyle({'chain': 'B'}, {'cartoon': {'color': '#f65fab', 'style': 'edged'}}, viewer=(0,1))\n",
    "view.setStyle({'chain': 'C'}, {'stick': {}}, viewer=(0,1))\n",
    "view.setStyle({'chain': 'D'}, {'stick': {'color': 'black'}}, viewer=(0,1))\n",
    "view.setStyle({'cartoon': {'color': 'spectrum'}}, viewer=(1,0))\n",
    "view.setStyle({'elem': 'Zn'}, {'sphere': {'scale': 2.0}}, viewer=(1,0))\n",
    "view.setStyle({'sphere': {'color': '#CCD1D1'}}, viewer=(1,1))\n",
    "view.addSurface(py3Dmol.VDW, {'opacity': 0.5}, viewer=(0,0))\n",
    "view.addSurface(py3Dmol.SES, {'opacity': 0.6, 'color': '#FADBD8'}, viewer=(0,1))\n",
    "view.addSurface(py3Dmol.SAS, {'opacity': 0.6, 'color': '#FDEBD0'}, viewer=(1,0))\n",
    "view.setBackgroundColor('#e1e1e1')\n",
    "view.show()"
   ]
  },
  {
   "cell_type": "code",
   "execution_count": null,
   "id": "e0f9057b",
   "metadata": {},
   "outputs": [],
   "source": [
    "m = Chem.MolFromSmiles('CC(=O)OCC')\n",
    "patt = Chem.MolFromSmarts('C(=O)[OH]CC')\n",
    "rm = AllChem.DeleteSubstructs(m,patt)\n",
    "Chem.MolToSmiles(rm)\n"
   ]
  },
  {
   "cell_type": "code",
   "execution_count": null,
   "id": "61c6e804",
   "metadata": {},
   "outputs": [],
   "source": []
  },
  {
   "cell_type": "code",
   "execution_count": null,
   "id": "81bf0409",
   "metadata": {},
   "outputs": [],
   "source": []
  }
 ],
 "metadata": {
  "kernelspec": {
   "display_name": "Python 3 (ipykernel)",
   "language": "python",
   "name": "python3"
  },
  "language_info": {
   "codemirror_mode": {
    "name": "ipython",
    "version": 3
   },
   "file_extension": ".py",
   "mimetype": "text/x-python",
   "name": "python",
   "nbconvert_exporter": "python",
   "pygments_lexer": "ipython3",
   "version": "3.10.8"
  }
 },
 "nbformat": 4,
 "nbformat_minor": 5
}

    "\n",
    "compoud = \"quercetine\"\n",
    "pcp_compoud = pcp.get_compounds(compoud, 'name')\n",
    "compoud_smiles = pcp_compoud[0].isomeric_smiles\n",
    "mol = Chem.MolFromSmiles(compoud_smiles)\n",
    "Draw.MolsToGridImage([mol])"
   ]
  },
  {
   "cell_type": "code",
   "execution_count": null,
   "id": "f0e08cef",
   "metadata": {},
   "outputs": [],
   "source": [
    "for atom in mol.GetAtoms():\n",
    "    atom.SetProp('molAtomMapNumber', str(atom.GetIdx()))\n",
    "Draw.MolsToGridImage([mol])"
   ]
  },
  {
   "cell_type": "code",
   "execution_count": null,
   "id": "36c19f86",
   "metadata": {},
   "outputs": [],
   "source": [
    "import pubchempy as pcp\n",
    "quercetine = pcp.get_compounds('benzen', 'name')\n",
    "quercetine_smiles = quercetine[0].isomeric_smiles\n",
    "quercetine_smiles"
   ]
  },
  {
   "cell_type": "code",
   "execution_count": null,
   "id": "e7278cba",
   "metadata": {},
   "outputs": [],
   "source": [
    "pcp_compoud = pcp.get_compounds('benzen', 'name')\n",
    "compoud_smiles = pcp_compoud[0].isomeric_smiles\n",
    "mol = Chem.MolFromSmiles(compoud_smiles)\n",
    "Draw.MolsToGridImage([mol])"
   ]
  },
  {
   "cell_type": "code",
   "execution_count": null,
   "id": "ad1e0996",
   "metadata": {},
   "outputs": [],
   "source": [
    "Chem.AddHs(mol, addCoords=True)"
   ]
  },
  {
   "cell_type": "code",
   "execution_count": null,
   "id": "dcd17833",
   "metadata": {},
   "outputs": [],
   "source": [
    "mol = Chem.MolFromSmiles('CN[C@H](C)[C@H](O)c1ccccc1')"
   ]
  },
  {
   "cell_type": "code",
   "execution_count": null,
   "id": "707427a1",
   "metadata": {},
   "outputs": [],
   "source": [
    "view = py3Dmol.view(width=680, height=250, query='cid:5950', viewergrid=(1,3), linked=False)\n",
    "view.setStyle({'line': {'linewidth': 5}}, viewer=(0,0))\n",
    "view.setStyle({'stick': {}}, viewer=(0,1))\n",
    "view.setStyle({'sphere': {}}, viewer=(0,2))\n",
    "view.setBackgroundColor('#ebf4fb', viewer=(0,0))\n",
    "view.setBackgroundColor('#f9f4fb', viewer=(0,1))\n",
    "view.setBackgroundColor('#e1e1e1', viewer=(0,2))\n",
    "view.show()\n",
    "view.png()"
   ]
  },
  {
   "cell_type": "code",
   "execution_count": null,
   "id": "4a209200",
   "metadata": {},
   "outputs": [],
   "source": [
    "view = py3Dmol.view(width=680, height=480, query='pdb:1zni', viewergrid=(2,2), linked=False)\n",
    "view.setStyle({'cartoon': {'color': 'spectrum'}}, viewer=(0,0))\n",
    "view.setStyle({'chain': 'A'}, {'cartoon': {'color': '#4aa6ff', 'style': 'oval'}}, viewer=(0,1))\n",
    "view.setStyle({'chain': 'B'}, {'cartoon': {'color': '#f65fab', 'style': 'edged'}}, viewer=(0,1))\n",
    "view.setStyle({'chain': 'C'}, {'stick': {}}, viewer=(0,1))\n",
    "view.setStyle({'chain': 'D'}, {'stick': {'color': 'black'}}, viewer=(0,1))\n",
    "view.setStyle({'cartoon': {'color': 'spectrum'}}, viewer=(1,0))\n",
    "view.setStyle({'elem': 'Zn'}, {'sphere': {'scale': 2.0}}, viewer=(1,0))\n",
    "view.setStyle({'sphere': {'color': '#CCD1D1'}}, viewer=(1,1))\n",
    "view.addSurface(py3Dmol.VDW, {'opacity': 0.5}, viewer=(0,0))\n",
    "view.addSurface(py3Dmol.SES, {'opacity': 0.6, 'color': '#FADBD8'}, viewer=(0,1))\n",
    "view.addSurface(py3Dmol.SAS, {'opacity': 0.6, 'color': '#FDEBD0'}, viewer=(1,0))\n",
    "view.setBackgroundColor('#e1e1e1')\n",
    "view.show()"
   ]
  },
  {
   "cell_type": "code",
   "execution_count": null,
   "id": "e0f9057b",
   "metadata": {},
   "outputs": [],
   "source": [
    "m = Chem.MolFromSmiles('CC(=O)OCC')\n",
    "patt = Chem.MolFromSmarts('C(=O)[OH]CC')\n",
    "rm = AllChem.DeleteSubstructs(m,patt)\n",
    "Chem.MolToSmiles(rm)\n"
   ]
  },
  {
   "cell_type": "code",
   "execution_count": null,
   "id": "61c6e804",
   "metadata": {},
   "outputs": [],
   "source": []
  },
  {
   "cell_type": "code",
   "execution_count": null,
   "id": "81bf0409",
   "metadata": {},
   "outputs": [],
   "source": []
  }
 ],
 "metadata": {
  "kernelspec": {
   "display_name": "Python 3 (ipykernel)",
   "language": "python",
   "name": "python3"
  },
  "language_info": {
   "codemirror_mode": {
    "name": "ipython",
    "version": 3
   },
   "file_extension": ".py",
   "mimetype": "text/x-python",
   "name": "python",
   "nbconvert_exporter": "python",
   "pygments_lexer": "ipython3",
   "version": "3.10.8"
  }
 },
 "nbformat": 4,
 "nbformat_minor": 5
}

   "outputs": [],
   "source": [
    "from rdkit.Chem import Draw\n",
    "from rdkit.Chem.Draw import IPythonConsole\n",
    "from IPython.display import display\n",
    "from IPython.display import Image\n",
    "\n",
    "compoud = \"quercetine\"\n",
    "pcp_compoud = pcp.get_compounds(compoud, 'name')\n",
    "compoud_smiles = pcp_compoud[0].isomeric_smiles\n",
    "mol = Chem.MolFromSmiles(compoud_smiles)\n",
    "Draw.MolsToGridImage([mol])"
   ]
  },
  {
   "cell_type": "code",
   "execution_count": null,
   "id": "f0e08cef",
   "metadata": {},
   "outputs": [],
   "source": [
    "for atom in mol.GetAtoms():\n",
    "    atom.SetProp('molAtomMapNumber', str(atom.GetIdx()))\n",
    "Draw.MolsToGridImage([mol])"
   ]
  },
  {
   "cell_type": "code",
   "execution_count": null,
   "id": "36c19f86",
   "metadata": {},
   "outputs": [],
   "source": [
    "import pubchempy as pcp\n",
    "quercetine = pcp.get_compounds('benzen', 'name')\n",
    "quercetine_smiles = quercetine[0].isomeric_smiles\n",
    "quercetine_smiles"
   ]
  },
  {
   "cell_type": "code",
   "execution_count": null,
   "id": "e7278cba",
   "metadata": {},
   "outputs": [],
   "source": [
    "pcp_compoud = pcp.get_compounds('benzen', 'name')\n",
    "compoud_smiles = pcp_compoud[0].isomeric_smiles\n",
    "mol = Chem.MolFromSmiles(compoud_smiles)\n",
    "Draw.MolsToGridImage([mol])"
   ]
  },
  {
   "cell_type": "code",
   "execution_count": null,
   "id": "ad1e0996",
   "metadata": {},
   "outputs": [],
   "source": [
    "Chem.AddHs(mol, addCoords=True)"
   ]
  },
  {
   "cell_type": "code",
   "execution_count": null,
   "id": "dcd17833",
   "metadata": {},
   "outputs": [],
   "source": [
    "mol = Chem.MolFromSmiles('CN[C@H](C)[C@H](O)c1ccccc1')"
   ]
  },
  {
   "cell_type": "code",
   "execution_count": null,
   "id": "707427a1",
   "metadata": {},
   "outputs": [],
   "source": [
    "view = py3Dmol.view(width=680, height=250, query='cid:5950', viewergrid=(1,3), linked=False)\n",
    "view.setStyle({'line': {'linewidth': 5}}, viewer=(0,0))\n",
    "view.setStyle({'stick': {}}, viewer=(0,1))\n",
    "view.setStyle({'sphere': {}}, viewer=(0,2))\n",
    "view.setBackgroundColor('#ebf4fb', viewer=(0,0))\n",
    "view.setBackgroundColor('#f9f4fb', viewer=(0,1))\n",
    "view.setBackgroundColor('#e1e1e1', viewer=(0,2))\n",
    "view.show()\n",
    "view.png()"
   ]
  },
  {
   "cell_type": "code",
   "execution_count": null,
   "id": "4a209200",
   "metadata": {},
   "outputs": [],
   "source": [
    "view = py3Dmol.view(width=680, height=480, query='pdb:1zni', viewergrid=(2,2), linked=False)\n",
    "view.setStyle({'cartoon': {'color': 'spectrum'}}, viewer=(0,0))\n",
    "view.setStyle({'chain': 'A'}, {'cartoon': {'color': '#4aa6ff', 'style': 'oval'}}, viewer=(0,1))\n",
    "view.setStyle({'chain': 'B'}, {'cartoon': {'color': '#f65fab', 'style': 'edged'}}, viewer=(0,1))\n",
    "view.setStyle({'chain': 'C'}, {'stick': {}}, viewer=(0,1))\n",
    "view.setStyle({'chain': 'D'}, {'stick': {'color': 'black'}}, viewer=(0,1))\n",
    "view.setStyle({'cartoon': {'color': 'spectrum'}}, viewer=(1,0))\n",
    "view.setStyle({'elem': 'Zn'}, {'sphere': {'scale': 2.0}}, viewer=(1,0))\n",
    "view.setStyle({'sphere': {'color': '#CCD1D1'}}, viewer=(1,1))\n",
    "view.addSurface(py3Dmol.VDW, {'opacity': 0.5}, viewer=(0,0))\n",
    "view.addSurface(py3Dmol.SES, {'opacity': 0.6, 'color': '#FADBD8'}, viewer=(0,1))\n",
    "view.addSurface(py3Dmol.SAS, {'opacity': 0.6, 'color': '#FDEBD0'}, viewer=(1,0))\n",
    "view.setBackgroundColor('#e1e1e1')\n",
    "view.show()"
   ]
  },
  {
   "cell_type": "code",
   "execution_count": null,
   "id": "e0f9057b",
   "metadata": {},
   "outputs": [],
   "source": []
  }
 ],
 "metadata": {
  "kernelspec": {
   "display_name": "Python 3 (ipykernel)",
   "language": "python",
   "name": "python3"
  },
  "language_info": {
   "codemirror_mode": {
    "name": "ipython",
    "version": 3
   },
   "file_extension": ".py",
   "mimetype": "text/x-python",
   "name": "python",
   "nbconvert_exporter": "python",
   "pygments_lexer": "ipython3",
   "version": "3.10.8"
  }
 },
 "nbformat": 4,
 "nbformat_minor": 5
}
