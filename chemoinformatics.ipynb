{
 "cells": [
  {
   "cell_type": "code",
   "execution_count": null,
   "id": "2877525c",
   "metadata": {},
   "outputs": [],
   "source": [
    "!pip install pubchempy\n",
    "!pip install rdkit==2022.3.5\n",
    "from rdkit import rdBase, Chem\n",
    "print(rdBase.rdkitVersion)"
   ]
  },
  {
   "cell_type": "code",
   "execution_count": null,
   "id": "3634e578",
   "metadata": {},
   "outputs": [],
   "source": [
    "import pubchempy as pcp\n",
    "quercetine = pcp.get_compounds('quercetine', 'name')\n",
    "quercetine_smiles = quercetine[0].isomeric_smiles\n",
    "quercetine_smiles"
   ]
  },
  {
   "cell_type": "code",
   "execution_count": null,
   "id": "54dac7c1",
   "metadata": {},
   "outputs": [],
   "source": [
    "quercetine[0].atoms"
   ]
  }
 ],
 "metadata": {
  "kernelspec": {
   "display_name": "Python 3 (ipykernel)",
   "language": "python",
   "name": "python3"
  },
  "language_info": {
   "codemirror_mode": {
    "name": "ipython",
    "version": 3
   },
   "file_extension": ".py",
   "mimetype": "text/x-python",
   "name": "python",
   "nbconvert_exporter": "python",
   "pygments_lexer": "ipython3",
   "version": "3.10.8"
  }
 },
 "nbformat": 4,
 "nbformat_minor": 5
}
