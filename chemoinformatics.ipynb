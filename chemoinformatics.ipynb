{
 "cells": [
  {
   "cell_type": "code",
   "execution_count": null,
   "id": "2877525c",
   "metadata": {},
   "outputs": [],
   "source": [
    "!pip install pubchempy\n",
    "!pip install rdkit==2022.3.5\n",
    "from rdkit import rdBase, Chem\n",
    "print(rdBase.rdkitVersion)"
   ]
  },
  {
   "cell_type": "code",
   "execution_count": null,
   "id": "3634e578",
   "metadata": {},
   "outputs": [],
   "source": [
    "import pubchempy as pcp\n",
    "quercetine = pcp.get_compounds('quercetine', 'name')\n",
    "quercetine_smiles = quercetine[0].isomeric_smiles\n",
    "quercetine_smiles"
   ]
  },
  {
   "cell_type": "code",
   "execution_count": null,
   "id": "54dac7c1",
   "metadata": {
    "scrolled": true
   },
   "outputs": [],
   "source": [
    "quercetine[0].atoms"
   ]
  },
  {
   "cell_type": "code",
   "execution_count": null,
   "id": "ddee1bc6",
   "metadata": {},
   "outputs": [],
   "source": [
    "from rdkit.Chem import Draw\n",
    "from rdkit.Chem.Draw import IPythonConsole\n",
    "from IPython.display import display\n",
    "from IPython.display import Image\n",
    "\n",
    "compoud = \"quercetine\"\n",
    "pcp_compoud = pcp.get_compounds(compoud, 'name')\n",
    "compoud_smiles = pcp_compoud[0].isomeric_smiles\n",
    "mol = Chem.MolFromSmiles(compoud_smiles)\n",
    "Draw.MolsToGridImage([mol])"
   ]
  },
  {
   "cell_type": "code",
   "execution_count": null,
   "id": "f0e08cef",
   "metadata": {},
   "outputs": [],
   "source": [
    "for atom in mol.GetAtoms():\n",
    "    atom.SetProp('molAtomMapNumber', str(atom.GetIdx()))\n",
    "Draw.MolsToGridImage([mol])"
   ]
  },
  {
   "cell_type": "code",
   "execution_count": null,
   "id": "36c19f86",
   "metadata": {},
   "outputs": [],
   "source": [
    "import pubchempy as pcp\n",
    "quercetine = pcp.get_compounds('benzen', 'name')\n",
    "quercetine_smiles = quercetine[0].isomeric_smiles\n",
    "quercetine_smiles"
   ]
  },
  {
   "cell_type": "code",
   "execution_count": null,
   "id": "e7278cba",
   "metadata": {},
   "outputs": [],
   "source": [
    "pcp_compoud = pcp.get_compounds('benzen', 'name')\n",
    "compoud_smiles = pcp_compoud[0].isomeric_smiles\n",
    "mol = Chem.MolFromSmiles(compoud_smiles)\n",
    "Draw.MolsToGridImage([mol])"
   ]
  },
  {
   "cell_type": "code",
   "execution_count": null,
   "id": "ad1e0996",
   "metadata": {},
   "outputs": [],
   "source": [
    "Chem.AddHs(mol, addCoords=True)"
   ]
  },
  {
   "cell_type": "code",
   "execution_count": null,
   "id": "dcd17833",
   "metadata": {},
   "outputs": [],
   "source": [
    "mol = Chem.MolFromSmiles('CN[C@H](C)[C@H](O)c1ccccc1')"
   ]
  },
  {
   "cell_type": "code",
   "execution_count": null,
   "id": "707427a1",
   "metadata": {},
   "outputs": [],
   "source": [
    "view = py3Dmol.view(width=680, height=250, query='cid:5950', viewergrid=(1,3), linked=False)\n",
    "view.setStyle({'line': {'linewidth': 5}}, viewer=(0,0))\n",
    "view.setStyle({'stick': {}}, viewer=(0,1))\n",
    "view.setStyle({'sphere': {}}, viewer=(0,2))\n",
    "view.setBackgroundColor('#ebf4fb', viewer=(0,0))\n",
    "view.setBackgroundColor('#f9f4fb', viewer=(0,1))\n",
    "view.setBackgroundColor('#e1e1e1', viewer=(0,2))\n",
    "view.show()\n",
    "view.png()"
   ]
  },
  {
   "cell_type": "code",
   "execution_count": null,
   "id": "4a209200",
   "metadata": {},
   "outputs": [],
   "source": [
    "view = py3Dmol.view(width=680, height=480, query='pdb:1zni', viewergrid=(2,2), linked=False)\n",
    "view.setStyle({'cartoon': {'color': 'spectrum'}}, viewer=(0,0))\n",
    "view.setStyle({'chain': 'A'}, {'cartoon': {'color': '#4aa6ff', 'style': 'oval'}}, viewer=(0,1))\n",
    "view.setStyle({'chain': 'B'}, {'cartoon': {'color': '#f65fab', 'style': 'edged'}}, viewer=(0,1))\n",
    "view.setStyle({'chain': 'C'}, {'stick': {}}, viewer=(0,1))\n",
    "view.setStyle({'chain': 'D'}, {'stick': {'color': 'black'}}, viewer=(0,1))\n",
    "view.setStyle({'cartoon': {'color': 'spectrum'}}, viewer=(1,0))\n",
    "view.setStyle({'elem': 'Zn'}, {'sphere': {'scale': 2.0}}, viewer=(1,0))\n",
    "view.setStyle({'sphere': {'color': '#CCD1D1'}}, viewer=(1,1))\n",
    "view.addSurface(py3Dmol.VDW, {'opacity': 0.5}, viewer=(0,0))\n",
    "view.addSurface(py3Dmol.SES, {'opacity': 0.6, 'color': '#FADBD8'}, viewer=(0,1))\n",
    "view.addSurface(py3Dmol.SAS, {'opacity': 0.6, 'color': '#FDEBD0'}, viewer=(1,0))\n",
    "view.setBackgroundColor('#e1e1e1')\n",
    "view.show()"
   ]
  },
  {
   "cell_type": "code",
   "execution_count": null,
   "id": "e0f9057b",
   "metadata": {},
   "outputs": [],
   "source": [
    "m = Chem.MolFromSmiles('CC(=O)OCC')\n",
    "patt = Chem.MolFromSmarts('C(=O)[OH]CC')\n",
    "rm = AllChem.DeleteSubstructs(m,patt)\n",
    "Chem.MolToSmiles(rm)\n"
   ]
  },
  {
   "cell_type": "code",
   "execution_count": null,
   "id": "3818e317",
   "metadata": {},
   "outputs": [],
   "source": [
    "from rdkit.Chem import Draw\n",
    "from rdkit.Chem.Draw import SimilarityMaps\n",
    "fp = SimilarityMaps.GetAPFingerprint(mol, fpType='normal')\n",
    "fp = SimilarityMaps.GetTTFingerprint(mol, fpType='normal')\n",
    "fp = SimilarityMaps.GetMorganFingerprint(mol, fpType='bv')"
   ]
  },
  {
   "cell_type": "code",
   "execution_count": null,
   "id": "84cdc68c",
   "metadata": {},
   "outputs": [],
   "source": [
    "fig, maxweight = SimilarityMaps.GetSimilarityMapForFingerprint(rm, m, SimilarityMaps.GetMorganFingerprint)"
   ]
  },
  {
   "cell_type": "code",
   "execution_count": null,
   "id": "c2eda114",
   "metadata": {},
   "outputs": [],
   "source": [
    "%matplotlib notebook"
   ]
  },
  {
   "cell_type": "code",
   "execution_count": null,
   "id": "987cf069",
   "metadata": {},
   "outputs": [],
   "source": [
    "from rdkit import Chem\n",
    "\n",
    "toluene = Chem.MolFromSmiles(\"C1ccnccc1\")\n",
    "toluene_mb = Chem.MolToMolBlock(toluene)\n",
    "print(toluene_mb)"
   ]
  },
  {
   "cell_type": "code",
   "execution_count": null,
   "id": "aac676e7",
   "metadata": {},
   "outputs": [],
   "source": [
    "import panel as pn\n",
    "from panel_chemistry.widgets import JSMEEditor\n",
    "\n"
   ]
  },
  {
   "cell_type": "code",
   "execution_count": null,
   "id": "e531b565",
   "metadata": {
    "scrolled": true
   },
   "outputs": [],
   "source": [
    "editor = JSMEEditor(height=500)\n",
    "pn.Column(editor)"
   ]
  },
  {
   "cell_type": "code",
   "execution_count": null,
   "id": "439986dd",
   "metadata": {},
   "outputs": [],
   "source": [
    "pn.extension(\"jsme\", sizing_mode=\"stretch_width\")\n",
    "editor = JSMEEditor(value=toluene_mb, height=500, format=\"mol\")\n",
    "pn.Column(editor)"
   ]
  },
  {
   "cell_type": "code",
   "execution_count": null,
   "id": "1ddc1f2f",
   "metadata": {},
   "outputs": [],
   "source": [
    "m2 = Chem.MolFromSmiles('C1CCCCC1')\n",
    "\n",
    "print(Chem.MolToMolBlock(m2))"
   ]
  },
  {
   "cell_type": "code",
   "execution_count": null,
   "id": "95e655e7",
   "metadata": {},
   "outputs": [],
   "source": [
    "\n",
    "import pubchempy as pcp\n",
    "import pandas as pd\n",
    "pd.set_option('display.max_columns', None) \n",
    "\n",
    "\n",
    "df_hali = pcp.get_compounds('Halichondrin B', 'name', as_dataframe=True)\n",
    "df_eri = pcp.get_compounds('Eribulin', 'name', as_dataframe=True)"
   ]
  },
  {
   "cell_type": "code",
   "execution_count": null,
   "id": "c22934b2",
   "metadata": {},
   "outputs": [],
   "source": [
    "df_eri"
   ]
  },
  {
   "cell_type": "code",
   "execution_count": null,
   "id": "992859de",
   "metadata": {},
   "outputs": [],
   "source": [
    "spiro = Chem.MolFromSmiles('C1CCC12CCCC2')\n",
    "spiro_ring = spiro.GetRingInfo()"
   ]
  },
  {
   "cell_type": "code",
   "execution_count": null,
   "id": "839088f9",
   "metadata": {},
   "outputs": [],
   "source": [
    "import chemdraw\n",
    "\n",
    "mol = \"N=C(C)Oc1ccccc1C(=O)O\"\n",
    "drawer = chemdraw.Drawer(mol, title=mol)\n",
    "fig = drawer.draw()\n",
    "fig.show()"
   ]
  },
  {
   "cell_type": "code",
   "execution_count": null,
   "id": "f35c921e",
   "metadata": {},
   "outputs": [],
   "source": [
    "import chemdraw\n",
    "\n",
    "mol = \"C1(CCC2)\"\n",
    "\n",
    "config = chemdraw.Config()\n",
    "config.atom_numbers.show = True\n",
    "config.bond_numbers.show = True\n",
    "config.ring_numbers.show = True\n",
    "\n",
    "drawer = chemdraw.Drawer(mol, title=mol, config=config)\n",
    "fig = drawer.draw()\n",
    "fig.show()"
   ]
  },
  {
   "cell_type": "code",
   "execution_count": null,
   "id": "66fb92c2",
   "metadata": {},
   "outputs": [],
   "source": [
    "import chemdraw\n",
    "\n",
    "mol = \"C1(CCC2)NI\"\n",
    "\n",
    "config = chemdraw.Config()\n",
    "config.atom_numbers.show = True\n",
    "config.bond_numbers.show = True\n",
    "config.ring_numbers.show = True\n",
    "\n",
    "drawer = chemdraw.Drawer(mol, title=mol, config=config)\n",
    "fig = drawer.draw()\n",
    "fig.show()"
   ]
  },
  {
   "cell_type": "code",
   "execution_count": null,
   "id": "4db4f60b",
   "metadata": {},
   "outputs": [],
   "source": [
    "from rdkit import Chem\n",
    "from rdkit.Chem import AllChem\n",
    "mol = Chem.MolFromSmiles('CCC(=O)NC')\n",
    "print(Chem.MolToMolBlock(mol, includeStereo=False))\n"
   ]
  },
  {
   "cell_type": "code",
   "execution_count": null,
   "id": "02755ae5",
   "metadata": {},
   "outputs": [],
   "source": [
    "AllChem.Compute2DCoords(mol)\n",
    "print(Chem.MolToMolBlock(mol, includeStereo=False))"
   ]
  },
  {
   "cell_type": "code",
   "execution_count": null,
   "id": "57dd093a",
   "metadata": {
    "scrolled": true
   },
   "outputs": [],
   "source": [
    "mols = []\n",
    "mol1 = Chem.MolFromSmiles('CC1=CC=CC=C1')\n",
    "mols.append(mol1)"
   ]
  },
  {
   "cell_type": "code",
   "execution_count": null,
   "id": "eec1baaa",
   "metadata": {},
   "outputs": [],
   "source": [
    "from pathlib import Path\n",
    "import numpy as np\n",
    "import pandas as pd\n",
    "from mordred import Calculator, descriptors\n",
    "from rdkit import Chem, rdBase, DataStructs\n",
    "from rdkit.Chem import Descriptors, Draw, Descriptors3D\n",
    "from rdkit.Chem import AllChem\n",
    "from rdkit.ML.Descriptors import MoleculeDescriptors"
   ]
  },
  {
   "cell_type": "code",
   "execution_count": null,
   "id": "a2df5542",
   "metadata": {},
   "outputs": [],
   "source": [
    "supply = Chem.SDMolSupplier('sdf-files-path')\n",
    "mols_list = [mol for mol in supply if mol is not None]\n",
    "mols_list = mols_list[:10]\n",
    "\n",
    "labels = [Chem.MolToSmiles(mol) for mol in mols_list]"
   ]
  },
  {
   "cell_type": "code",
   "execution_count": null,
   "id": "20edaabf",
   "metadata": {},
   "outputs": [],
   "source": [
    "shap.summary_plot(shap_values, X)"
   ]
  },
  {
   "cell_type": "code",
   "execution_count": null,
   "id": "27cc9330",
   "metadata": {},
   "outputs": [],
   "source": []
  }
 ],
 "metadata": {
  "kernelspec": {
   "display_name": "Python 3 (ipykernel)",
   "language": "python",
   "name": "python3"
  },
  "language_info": {
   "codemirror_mode": {
    "name": "ipython",
    "version": 3
   },
   "file_extension": ".py",
   "mimetype": "text/x-python",
   "name": "python",
   "nbconvert_exporter": "python",
   "pygments_lexer": "ipython3",
   "version": "3.10.8"
  }
 },
 "nbformat": 4,
 "nbformat_minor": 5
}
