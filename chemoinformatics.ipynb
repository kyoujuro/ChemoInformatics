{
 "cells": [
  {
   "cell_type": "code",
   "execution_count": null,
   "id": "2877525c",
   "metadata": {},
   "outputs": [],
   "source": [
    "!pip install pubchempy\n",
    "!pip install rdkit==2022.3.5\n",
    "from rdkit import rdBase, Chem\n",
    "print(rdBase.rdkitVersion)"
   ]
  },
  {
   "cell_type": "code",
   "execution_count": null,
   "id": "3634e578",
   "metadata": {},
   "outputs": [],
   "source": [
    "import pubchempy as pcp\n",
    "quercetine = pcp.get_compounds('quercetine', 'name')\n",
    "quercetine_smiles = quercetine[0].isomeric_smiles\n",
    "quercetine_smiles"
   ]
  },
  {
   "cell_type": "code",
   "execution_count": null,
   "id": "54dac7c1",
   "metadata": {
    "scrolled": true
   },
   "outputs": [],
   "source": [
    "quercetine[0].atoms"
   ]
  },
  {
   "cell_type": "code",
   "execution_count": null,
   "id": "45966f4a",
   "metadata": {},
   "outputs": [],
   "source": [
    "from rdkit.Chem import Draw\n",
    "from rdkit.Chem.Draw import IPythonConsole\n",
    "from IPython.display import display\n",
    "from IPython.display import Image\n",
    "\n",
    "compoud = \"quercetine\"\n",
    "pcp_compoud = pcp.get_compounds(compoud, 'name')\n",
    "compoud_smiles = pcp_compoud[0].isomeric_smiles\n",
    "mol = Chem.MolFromSmiles(compoud_smiles)\n",
    "Draw.MolsToGridImage([mol])"
   ]
  },
  {
   "cell_type": "code",
   "execution_count": null,
   "id": "6782837b",
   "metadata": {},
   "outputs": [],
   "source": []
  }
 ],
 "metadata": {
  "kernelspec": {
   "display_name": "Python 3 (ipykernel)",
   "language": "python",
   "name": "python3"
  },
  "language_info": {
   "codemirror_mode": {
    "name": "ipython",
    "version": 3
   },
   "file_extension": ".py",
   "mimetype": "text/x-python",
   "name": "python",
   "nbconvert_exporter": "python",
   "pygments_lexer": "ipython3",
   "version": "3.10.8"
  }
 },
 "nbformat": 4,
 "nbformat_minor": 5
}
