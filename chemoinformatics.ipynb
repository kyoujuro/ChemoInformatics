{
 "cells": [
  {
   "cell_type": "code",
   "execution_count": null,
   "id": "2877525c",
   "metadata": {},
   "outputs": [],
   "source": [
    "!pip install pubchempy\n",
    "!pip install rdkit==2022.3.5\n",
    "from rdkit import rdBase, Chem\n",
    "print(rdBase.rdkitVersion)"
   ]
  },
  {
   "cell_type": "code",
   "execution_count": null,
   "id": "3634e578",
   "metadata": {},
   "outputs": [],
   "source": [
    "import pubchempy as pcp\n",
    "quercetine = pcp.get_compounds('quercetine', 'name')\n",
    "quercetine_smiles = quercetine[0].isomeric_smiles\n",
    "quercetine_smiles"
   ]
  },
  {
   "cell_type": "code",
   "execution_count": null,
   "id": "54dac7c1",
   "metadata": {
    "scrolled": true
   },
   "outputs": [],
   "source": [
    "quercetine[0].atoms"
   ]
  },
  {
   "cell_type": "code",
   "execution_count": null,
   "id": "d60780ec",
   "metadata": {},
   "outputs": [],
   "source": [
    "from rdkit.Chem import Draw\n",
    "from rdkit.Chem.Draw import IPythonConsole\n",
    "from IPython.display import display\n",
    "from IPython.display import Image\n",
    "\n",
    "compoud = \"quercetine\"\n",
    "pcp_compoud = pcp.get_compounds(compoud, 'name')\n",
    "compoud_smiles = pcp_compoud[0].isomeric_smiles\n",
    "mol = Chem.MolFromSmiles(compoud_smiles)\n",
    "Draw.MolsToGridImage([mol])"
   ]
  },
  {
   "cell_type": "code",
   "execution_count": null,
   "id": "20d54485",
   "metadata": {},
   "outputs": [],
   "source": [
    "for atom in mol.GetAtoms():\n",
    "    atom.SetProp('molAtomMapNumber', str(atom.GetIdx()))\n",
    "Draw.MolsToGridImage([mol])"
   ]
  },
  {
   "cell_type": "code",
   "execution_count": null,
   "id": "3826deed",
   "metadata": {},
   "outputs": [],
   "source": [
    "import pubchempy as pcp\n",
    "quercetine = pcp.get_compounds('benzen', 'name')\n",
    "quercetine_smiles = quercetine[0].isomeric_smiles\n",
    "quercetine_smiles"
   ]
  },
  {
   "cell_type": "code",
   "execution_count": null,
   "id": "a09c65ef",
   "metadata": {},
   "outputs": [],
   "source": [
    "pcp_compoud = pcp.get_compounds('benzen', 'name')\n",
    "compoud_smiles = pcp_compoud[0].isomeric_smiles\n",
    "mol = Chem.MolFromSmiles(compoud_smiles)\n",
    "Draw.MolsToGridImage([mol])"
   ]
  },
  {
   "cell_type": "code",
   "execution_count": null,
   "id": "1a168aa5",
   "metadata": {},
   "outputs": [],
   "source": [
    "Chem.AddHs(mol, addCoords=True)"
   ]
  },
  {
   "cell_type": "code",
   "execution_count": null,
   "id": "f9695ac2",
   "metadata": {},
   "outputs": [],
   "source": [
    "Chem.MolToCXSmiles(mol, addCoords=True)"
   ]
  },
  {
   "cell_type": "code",
   "execution_count": null,
   "id": "ca426e14",
   "metadata": {},
   "outputs": [],
   "source": [
    "mol = Chem.MolFromSmiles('CN[C@H](C)[C@H](O)c1ccccc1')"
   ]
  },
  {
   "cell_type": "code",
   "execution_count": null,
   "id": "f4267b5e",
   "metadata": {},
   "outputs": [],
   "source": [
    "view = py3Dmol.view(width=680, height=250, query='cid:5950', viewergrid=(1,3), linked=False)\n",
    "view.setStyle({'line': {'linewidth': 5}}, viewer=(0,0))\n",
    "view.setStyle({'stick': {}}, viewer=(0,1))\n",
    "view.setStyle({'sphere': {}}, viewer=(0,2))\n",
    "view.setBackgroundColor('#ebf4fb', viewer=(0,0))\n",
    "view.setBackgroundColor('#f9f4fb', viewer=(0,1))\n",
    "view.setBackgroundColor('#e1e1e1', viewer=(0,2))\n",
    "view.show()\n",
    "view.png()"
   ]
  },
  {
   "cell_type": "code",
   "execution_count": null,
   "id": "3f17be5f",
   "metadata": {},
   "outputs": [],
   "source": []
  }
 ],
 "metadata": {
  "kernelspec": {
   "display_name": "Python 3 (ipykernel)",
   "language": "python",
   "name": "python3"
  },
  "language_info": {
   "codemirror_mode": {
    "name": "ipython",
    "version": 3
   },
   "file_extension": ".py",
   "mimetype": "text/x-python",
   "name": "python",
   "nbconvert_exporter": "python",
   "pygments_lexer": "ipython3",
   "version": "3.10.8"
  }
 },
 "nbformat": 4,
 "nbformat_minor": 5
}
