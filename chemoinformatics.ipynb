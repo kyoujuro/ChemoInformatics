
{
 "cells": [
  {
   "cell_type": "code",
   "execution_count": null,
   "id": "2877525c",
   "metadata": {},
   "outputs": [],
   "source": [
    "!pip install pubchempy\n",
    "!pip install rdkit==2022.3.5\n",
    "from rdkit import rdBase, Chem\n",
    "print(rdBase.rdkitVersion)"
   ]
  },
  {
   "cell_type": "code",
   "execution_count": null,
   "id": "3634e578",
   "metadata": {},
   "outputs": [],
   "source": [
    "import pubchempy as pcp\n",
    "quercetine = pcp.get_compounds('quercetine', 'name')\n",
    "quercetine_smiles = quercetine[0].isomeric_smiles\n",
    "quercetine_smiles"
   ]
  },
  {
   "cell_type": "code",
   "execution_count": null,
   "id": "54dac7c1",
   "metadata": {
    "scrolled": true
   },
   "outputs": [],
   "source": [
    "quercetine[0].atoms"
   ]
  },
  {
   "cell_type": "code",
   "execution_count": null,
   "id": "22704beb",
   "metadata": {},
   "outputs": [],
   "source": [
    "from rdkit.Chem import Draw\n",
    "from rdkit.Chem.Draw import IPythonConsole\n",
    "from IPython.display import display\n",
