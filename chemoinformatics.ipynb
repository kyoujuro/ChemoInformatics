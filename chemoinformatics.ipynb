{
 "cells": [
  {
   "cell_type": "code",
   "execution_count": null,
   "id": "2877525c",
   "metadata": {},
   "outputs": [],
   "source": [
    "!pip install pubchempy\n",
    "!pip install rdkit==2022.3.5\n",
    "from rdkit import rdBase, Chem\n",
    "print(rdBase.rdkitVersion)"
   ]
  },
  {
   "cell_type": "code",
   "execution_count": null,
   "id": "3634e578",
   "metadata": {},
   "outputs": [],
   "source": [
    "import pubchempy as pcp\n",
    "quercetine = pcp.get_compounds('quercetine', 'name')\n",
    "quercetine_smiles = quercetine[0].isomeric_smiles\n",
    "quercetine_smiles"
   ]
  },
  {
   "cell_type": "code",
   "execution_count": null,
   "id": "54dac7c1",
   "metadata": {
    "scrolled": true
   },
   "outputs": [],
   "source": [
    "quercetine[0].atoms"
   ]
  },
  {
   "cell_type": "code",
   "execution_count": null,
   "id": "ddee1bc6",
   "metadata": {},
   "outputs": [],
   "source": [
    "from rdkit.Chem import Draw\n",
    "from rdkit.Chem.Draw import IPythonConsole\n",
    "from IPython.display import display\n",
    "from IPython.display import Image\n",
    "\n",
    "compoud = \"quercetine\"\n",
    "pcp_compoud = pcp.get_compounds(compoud, 'name')\n",
    "compoud_smiles = pcp_compoud[0].isomeric_smiles\n",
    "mol = Chem.MolFromSmiles(compoud_smiles)\n",
    "Draw.MolsToGridImage([mol])"
   ]
  },
  {
   "cell_type": "code",
   "execution_count": null,
   "id": "f0e08cef",
   "metadata": {},
   "outputs": [],
   "source": [
    "for atom in mol.GetAtoms():\n",
    "    atom.SetProp('molAtomMapNumber', str(atom.GetIdx()))\n",
    "Draw.MolsToGridImage([mol])"
   ]
  },
  {
   "cell_type": "code",
   "execution_count": null,
   "id": "36c19f86",
   "metadata": {},
   "outputs": [],
   "source": [
    "import pubchempy as pcp\n",
    "quercetine = pcp.get_compounds('benzen', 'name')\n",
    "quercetine_smiles = quercetine[0].isomeric_smiles\n",
    "quercetine_smiles"
   ]
  },
  {
   "cell_type": "code",
   "execution_count": null,
   "id": "e7278cba",
   "metadata": {},
   "outputs": [],
   "source": [
    "pcp_compoud = pcp.get_compounds('benzen', 'name')\n",
    "compoud_smiles = pcp_compoud[0].isomeric_smiles\n",
    "mol = Chem.MolFromSmiles(compoud_smiles)\n",
    "Draw.MolsToGridImage([mol])"
   ]
  },
  {
   "cell_type": "code",
   "execution_count": null,
   "id": "ad1e0996",
   "metadata": {},
   "outputs": [],
   "source": [
    "Chem.AddHs(mol, addCoords=True)"
   ]
  },
  {
   "cell_type": "code",
   "execution_count": null,
   "id": "dcd17833",
   "metadata": {},
   "outputs": [],
   "source": [
    "mol = Chem.MolFromSmiles('CN[C@H](C)[C@H](O)c1ccccc1')"
   ]
  },
  {
   "cell_type": "code",
   "execution_count": null,
   "id": "707427a1",
   "metadata": {},
   "outputs": [],
   "source": [
    "view = py3Dmol.view(width=680, height=250, query='cid:5950', viewergrid=(1,3), linked=False)\n",
    "view.setStyle({'line': {'linewidth': 5}}, viewer=(0,0))\n",
    "view.setStyle({'stick': {}}, viewer=(0,1))\n",
    "view.setStyle({'sphere': {}}, viewer=(0,2))\n",
    "view.setBackgroundColor('#ebf4fb', viewer=(0,0))\n",
    "view.setBackgroundColor('#f9f4fb', viewer=(0,1))\n",
    "view.setBackgroundColor('#e1e1e1', viewer=(0,2))\n",
    "view.show()\n",
    "view.png()"
   ]
  },
  {
   "cell_type": "code",
   "execution_count": null,
   "id": "4a209200",
   "metadata": {},
   "outputs": [],
   "source": [
    "view = py3Dmol.view(width=680, height=480, query='pdb:1zni', viewergrid=(2,2), linked=False)\n",
    "view.setStyle({'cartoon': {'color': 'spectrum'}}, viewer=(0,0))\n",
    "view.setStyle({'chain': 'A'}, {'cartoon': {'color': '#4aa6ff', 'style': 'oval'}}, viewer=(0,1))\n",
    "view.setStyle({'chain': 'B'}, {'cartoon': {'color': '#f65fab', 'style': 'edged'}}, viewer=(0,1))\n",
    "view.setStyle({'chain': 'C'}, {'stick': {}}, viewer=(0,1))\n",
    "view.setStyle({'chain': 'D'}, {'stick': {'color': 'black'}}, viewer=(0,1))\n",
    "view.setStyle({'cartoon': {'color': 'spectrum'}}, viewer=(1,0))\n",
    "view.setStyle({'elem': 'Zn'}, {'sphere': {'scale': 2.0}}, viewer=(1,0))\n",
    "view.setStyle({'sphere': {'color': '#CCD1D1'}}, viewer=(1,1))\n",
    "view.addSurface(py3Dmol.VDW, {'opacity': 0.5}, viewer=(0,0))\n",
    "view.addSurface(py3Dmol.SES, {'opacity': 0.6, 'color': '#FADBD8'}, viewer=(0,1))\n",
    "view.addSurface(py3Dmol.SAS, {'opacity': 0.6, 'color': '#FDEBD0'}, viewer=(1,0))\n",
    "view.setBackgroundColor('#e1e1e1')\n",
    "view.show()"
   ]
  },
  {
   "cell_type": "code",
   "execution_count": null,
   "id": "e0f9057b",
   "metadata": {},
   "outputs": [],
   "source": [
    "m = Chem.MolFromSmiles('CC(=O)OCC')\n",
    "patt = Chem.MolFromSmarts('C(=O)[OH]CC')\n",
    "rm = AllChem.DeleteSubstructs(m,patt)\n",
    "Chem.MolToSmiles(rm)\n"
   ]
  },
  {
   "cell_type": "code",
   "execution_count": null,
   "id": "33791c47",
   "metadata": {},
   "outputs": [],
   "source": [
    "from rdkit.Chem import Draw\n",
    "from rdkit.Chem.Draw import SimilarityMaps\n",
    "fp = SimilarityMaps.GetAPFingerprint(mol, fpType='normal')\n",
    "fp = SimilarityMaps.GetTTFingerprint(mol, fpType='normal')\n",
    "fp = SimilarityMaps.GetMorganFingerprint(mol, fpType='bv')"
   ]
  },
  {
   "cell_type": "code",
   "execution_count": null,
   "id": "e7f868dd",
   "metadata": {},
   "outputs": [],
   "source": [
    "fig, maxweight = SimilarityMaps.GetSimilarityMapForFingerprint(rm, m, SimilarityMaps.GetMorganFingerprint)"
   ]
  },
  {
   "cell_type": "code",
   "execution_count": null,
   "id": "db4f0bd7",
   "metadata": {},
   "outputs": [],
   "source": [
    "%matplotlib notebook"
   ]
  },
  {
   "cell_type": "code",
   "execution_count": null,
   "id": "f4e0689b",
   "metadata": {},
   "outputs": [],
   "source": [
    "from rdkit import Chem\n",
    "\n",
    "toluene = Chem.MolFromSmiles(\"C1ccnccc1\")\n",
    "toluene_mb = Chem.MolToMolBlock(toluene)\n",
    "print(toluene_mb)"
   ]
  },
  {
   "cell_type": "code",
   "execution_count": null,
   "id": "33f3374c",
   "metadata": {},
   "outputs": [],
   "source": [
    "import panel as pn\n",
    "from panel_chemistry.widgets import JSMEEditor\n",
    "\n"
   ]
  },
  {
   "cell_type": "code",
   "execution_count": null,
   "id": "565f8f90",
   "metadata": {
    "scrolled": true
   },
   "outputs": [],
   "source": [
    "editor = JSMEEditor(height=500)\n",
    "pn.Column(editor)"
   ]
  },
  {
   "cell_type": "code",
   "execution_count": null,
   "id": "ae11122f",
   "metadata": {},
   "outputs": [],
   "source": [
    "pn.extension(\"jsme\", sizing_mode=\"stretch_width\")\n",
    "editor = JSMEEditor(value=toluene_mb, height=500, format=\"mol\")\n",
    "pn.Column(editor)"
   ]
  },
  {
   "cell_type": "code",
   "execution_count": 89,
   "id": "fd0696e0",
   "metadata": {},
   "outputs": [
    {
     "name": "stdout",
     "output_type": "stream",
     "text": [
      "\n",
      "     RDKit          2D\n",
      "\n",
      "  6  6  0  0  0  0  0  0  0  0999 V2000\n",
      "    1.5000    0.0000    0.0000 C   0  0  0  0  0  0  0  0  0  0  0  0\n",
      "    0.7500   -1.2990    0.0000 C   0  0  0  0  0  0  0  0  0  0  0  0\n",
      "   -0.7500   -1.2990    0.0000 C   0  0  0  0  0  0  0  0  0  0  0  0\n",
      "   -1.5000    0.0000    0.0000 C   0  0  0  0  0  0  0  0  0  0  0  0\n",
      "   -0.7500    1.2990    0.0000 C   0  0  0  0  0  0  0  0  0  0  0  0\n",
      "    0.7500    1.2990    0.0000 C   0  0  0  0  0  0  0  0  0  0  0  0\n",
      "  1  2  1  0\n",
      "  2  3  1  0\n",
      "  3  4  1  0\n",
      "  4  5  1  0\n",
      "  5  6  1  0\n",
      "  6  1  1  0\n",
      "M  END\n",
      "\n"
     ]
    }
   ],
   "source": [
    "m2 = Chem.MolFromSmiles('C1CCCCC1')\n",
    "\n",
    "print(Chem.MolToMolBlock(m2))"
   ]
  },
  {
   "cell_type": "code",
   "execution_count": 94,
   "id": "20136b94",
   "metadata": {},
   "outputs": [],
   "source": [
    "\n",
    "import pubchempy as pcp\n",
    "import pandas as pd\n",
    "pd.set_option('display.max_columns', None) \n",
    "\n",
    "\n",
    "df_hali = pcp.get_compounds('Halichondrin B', 'name', as_dataframe=True)\n",
    "df_eri = pcp.get_compounds('Eribulin', 'name', as_dataframe=True)"
   ]
  },
  {
   "cell_type": "code",
   "execution_count": 95,
   "id": "577cd9f3",
   "metadata": {},
   "outputs": [
    {
     "data": {
      "text/html": [
       "<div>\n",
       "<style scoped>\n",
       "    .dataframe tbody tr th:only-of-type {\n",
       "        vertical-align: middle;\n",
       "    }\n",
       "\n",
       "    .dataframe tbody tr th {\n",
       "        vertical-align: top;\n",
       "    }\n",
       "\n",
       "    .dataframe thead th {\n",
       "        text-align: right;\n",
       "    }\n",
       "</style>\n",
       "<table border=\"1\" class=\"dataframe\">\n",
       "  <thead>\n",
       "    <tr style=\"text-align: right;\">\n",
       "      <th></th>\n",
       "      <th>atom_stereo_count</th>\n",
       "      <th>atoms</th>\n",
       "      <th>bond_stereo_count</th>\n",
       "      <th>bonds</th>\n",
       "      <th>cactvs_fingerprint</th>\n",
       "      <th>canonical_smiles</th>\n",
       "      <th>charge</th>\n",
       "      <th>complexity</th>\n",
       "      <th>conformer_id_3d</th>\n",
       "      <th>conformer_rmsd_3d</th>\n",
       "      <th>coordinate_type</th>\n",
       "      <th>covalent_unit_count</th>\n",
       "      <th>defined_atom_stereo_count</th>\n",
       "      <th>defined_bond_stereo_count</th>\n",
       "      <th>effective_rotor_count_3d</th>\n",
       "      <th>elements</th>\n",
       "      <th>exact_mass</th>\n",
       "      <th>feature_selfoverlap_3d</th>\n",
       "      <th>fingerprint</th>\n",
       "      <th>h_bond_acceptor_count</th>\n",
       "      <th>h_bond_donor_count</th>\n",
       "      <th>heavy_atom_count</th>\n",
       "      <th>inchi</th>\n",
       "      <th>inchikey</th>\n",
       "      <th>isomeric_smiles</th>\n",
       "      <th>isotope_atom_count</th>\n",
       "      <th>iupac_name</th>\n",
       "      <th>mmff94_energy_3d</th>\n",
       "      <th>mmff94_partial_charges_3d</th>\n",
       "      <th>molecular_formula</th>\n",
       "      <th>molecular_weight</th>\n",
       "      <th>monoisotopic_mass</th>\n",
       "      <th>multipoles_3d</th>\n",
       "      <th>pharmacophore_features_3d</th>\n",
       "      <th>record</th>\n",
       "      <th>rotatable_bond_count</th>\n",
       "      <th>shape_fingerprint_3d</th>\n",
       "      <th>shape_selfoverlap_3d</th>\n",
       "      <th>tpsa</th>\n",
       "      <th>undefined_atom_stereo_count</th>\n",
       "      <th>undefined_bond_stereo_count</th>\n",
       "      <th>volume_3d</th>\n",
       "      <th>xlogp</th>\n",
       "    </tr>\n",
       "    <tr>\n",
       "      <th>cid</th>\n",
       "      <th></th>\n",
       "      <th></th>\n",
       "      <th></th>\n",
       "      <th></th>\n",
       "      <th></th>\n",
       "      <th></th>\n",
       "      <th></th>\n",
       "      <th></th>\n",
       "      <th></th>\n",
       "      <th></th>\n",
       "      <th></th>\n",
       "      <th></th>\n",
       "      <th></th>\n",
       "      <th></th>\n",
       "      <th></th>\n",
       "      <th></th>\n",
       "      <th></th>\n",
       "      <th></th>\n",
       "      <th></th>\n",
       "      <th></th>\n",
       "      <th></th>\n",
       "      <th></th>\n",
       "      <th></th>\n",
       "      <th></th>\n",
       "      <th></th>\n",
       "      <th></th>\n",
       "      <th></th>\n",
       "      <th></th>\n",
       "      <th></th>\n",
       "      <th></th>\n",
       "      <th></th>\n",
       "      <th></th>\n",
       "      <th></th>\n",
       "      <th></th>\n",
       "      <th></th>\n",
       "      <th></th>\n",
       "      <th></th>\n",
       "      <th></th>\n",
       "      <th></th>\n",
       "      <th></th>\n",
       "      <th></th>\n",
       "      <th></th>\n",
       "      <th></th>\n",
       "    </tr>\n",
       "  </thead>\n",
       "  <tbody>\n",
       "    <tr>\n",
       "      <th>11354606</th>\n",
       "      <td>19</td>\n",
       "      <td>[{'aid': 1, 'number': 8, 'element': 'O', 'x': ...</td>\n",
       "      <td>0</td>\n",
       "      <td>[{'aid1': 1, 'aid2': 14, 'order': 1}, {'aid1':...</td>\n",
       "      <td>1111000001111110001111000000000000000000000000...</td>\n",
       "      <td>CC1CC2CCC3C(=C)CC(O3)CCC45CC6C(O4)C7C(O6)C(O5)...</td>\n",
       "      <td>0</td>\n",
       "      <td>1380</td>\n",
       "      <td>None</td>\n",
       "      <td>None</td>\n",
       "      <td>2d</td>\n",
       "      <td>1</td>\n",
       "      <td>19</td>\n",
       "      <td>0</td>\n",
       "      <td>None</td>\n",
       "      <td>[O, O, O, O, O, O, O, O, O, O, O, N, C, C, C, ...</td>\n",
       "      <td>729.40881170</td>\n",
       "      <td>None</td>\n",
       "      <td>00000371F07E3C00000000000000000000000000000122...</td>\n",
       "      <td>12</td>\n",
       "      <td>2</td>\n",
       "      <td>52</td>\n",
       "      <td>InChI=1S/C40H59NO11/c1-19-11-24-5-7-28-20(2)12...</td>\n",
       "      <td>UFNVPOGXISZXJD-JBQZKEIOSA-N</td>\n",
       "      <td>C[C@@H]1C[C@@H]2CC[C@H]3C(=C)C[C@@H](O3)CC[C@]...</td>\n",
       "      <td>0</td>\n",
       "      <td>(1S,3S,6S,9S,12S,14R,16R,18S,20R,21R,22S,26R,2...</td>\n",
       "      <td>None</td>\n",
       "      <td>None</td>\n",
       "      <td>C40H59NO11</td>\n",
       "      <td>729.9</td>\n",
       "      <td>729.40881170</td>\n",
       "      <td>None</td>\n",
       "      <td>None</td>\n",
       "      <td>{'id': {'id': {'cid': 11354606}}, 'atoms': {'a...</td>\n",
       "      <td>4</td>\n",
       "      <td>None</td>\n",
       "      <td>None</td>\n",
       "      <td>146</td>\n",
       "      <td>0</td>\n",
       "      <td>0</td>\n",
       "      <td>None</td>\n",
       "      <td>1.1</td>\n",
       "    </tr>\n",
       "  </tbody>\n",
       "</table>\n",
       "</div>"
      ],
      "text/plain": [
       "          atom_stereo_count  \\\n",
       "cid                           \n",
       "11354606                 19   \n",
       "\n",
       "                                                      atoms  \\\n",
       "cid                                                           \n",
       "11354606  [{'aid': 1, 'number': 8, 'element': 'O', 'x': ...   \n",
       "\n",
       "          bond_stereo_count  \\\n",
       "cid                           \n",
       "11354606                  0   \n",
       "\n",
       "                                                      bonds  \\\n",
       "cid                                                           \n",
       "11354606  [{'aid1': 1, 'aid2': 14, 'order': 1}, {'aid1':...   \n",
       "\n",
       "                                         cactvs_fingerprint  \\\n",
       "cid                                                           \n",
       "11354606  1111000001111110001111000000000000000000000000...   \n",
       "\n",
       "                                           canonical_smiles  charge  \\\n",
       "cid                                                                   \n",
       "11354606  CC1CC2CCC3C(=C)CC(O3)CCC45CC6C(O4)C7C(O6)C(O5)...       0   \n",
       "\n",
       "          complexity conformer_id_3d conformer_rmsd_3d coordinate_type  \\\n",
       "cid                                                                      \n",
       "11354606        1380            None              None              2d   \n",
       "\n",
       "          covalent_unit_count  defined_atom_stereo_count  \\\n",
       "cid                                                        \n",
       "11354606                    1                         19   \n",
       "\n",
       "          defined_bond_stereo_count effective_rotor_count_3d  \\\n",
       "cid                                                            \n",
       "11354606                          0                     None   \n",
       "\n",
       "                                                   elements    exact_mass  \\\n",
       "cid                                                                         \n",
       "11354606  [O, O, O, O, O, O, O, O, O, O, O, N, C, C, C, ...  729.40881170   \n",
       "\n",
       "         feature_selfoverlap_3d  \\\n",
       "cid                               \n",
       "11354606                   None   \n",
       "\n",
       "                                                fingerprint  \\\n",
       "cid                                                           \n",
       "11354606  00000371F07E3C00000000000000000000000000000122...   \n",
       "\n",
       "          h_bond_acceptor_count  h_bond_donor_count  heavy_atom_count  \\\n",
       "cid                                                                     \n",
       "11354606                     12                   2                52   \n",
       "\n",
       "                                                      inchi  \\\n",
       "cid                                                           \n",
       "11354606  InChI=1S/C40H59NO11/c1-19-11-24-5-7-28-20(2)12...   \n",
       "\n",
       "                             inchikey  \\\n",
       "cid                                     \n",
       "11354606  UFNVPOGXISZXJD-JBQZKEIOSA-N   \n",
       "\n",
       "                                            isomeric_smiles  \\\n",
       "cid                                                           \n",
       "11354606  C[C@@H]1C[C@@H]2CC[C@H]3C(=C)C[C@@H](O3)CC[C@]...   \n",
       "\n",
       "          isotope_atom_count  \\\n",
       "cid                            \n",
       "11354606                   0   \n",
       "\n",
       "                                                 iupac_name mmff94_energy_3d  \\\n",
       "cid                                                                            \n",
       "11354606  (1S,3S,6S,9S,12S,14R,16R,18S,20R,21R,22S,26R,2...             None   \n",
       "\n",
       "         mmff94_partial_charges_3d molecular_formula molecular_weight  \\\n",
       "cid                                                                     \n",
       "11354606                      None        C40H59NO11            729.9   \n",
       "\n",
       "         monoisotopic_mass multipoles_3d pharmacophore_features_3d  \\\n",
       "cid                                                                  \n",
       "11354606      729.40881170          None                      None   \n",
       "\n",
       "                                                     record  \\\n",
       "cid                                                           \n",
       "11354606  {'id': {'id': {'cid': 11354606}}, 'atoms': {'a...   \n",
       "\n",
       "          rotatable_bond_count shape_fingerprint_3d shape_selfoverlap_3d  \\\n",
       "cid                                                                        \n",
       "11354606                     4                 None                 None   \n",
       "\n",
       "          tpsa  undefined_atom_stereo_count  undefined_bond_stereo_count  \\\n",
       "cid                                                                        \n",
       "11354606   146                            0                            0   \n",
       "\n",
       "         volume_3d  xlogp  \n",
       "cid                        \n",
       "11354606      None    1.1  "
      ]
     },
     "execution_count": 95,
     "metadata": {},
     "output_type": "execute_result"
    }
   ],
   "source": [
    "df_eri"
   ]
  },
  {
   "cell_type": "code",
   "execution_count": 101,
   "id": "55650f88",
   "metadata": {},
   "outputs": [],
   "source": [
    "spiro = Chem.MolFromSmiles('C1CCC12CCCC2')\n",
    "spiro_ring = spiro.GetRingInfo()"
   ]
  },
  {
   "cell_type": "code",
   "execution_count": 99,
   "id": "3b407894",
   "metadata": {},
   "outputs": [
    {
     "name": "stdout",
     "output_type": "stream",
     "text": [
      "<rdkit.Chem.rdchem.RingInfo object at 0x143d87520>\n"
     ]
    }
   ],
   "source": []
  },
  {
   "cell_type": "code",
   "execution_count": null,
   "id": "36e59c57",
   "metadata": {},
   "outputs": [],
   "source": []
  }
 ],
 "metadata": {
  "kernelspec": {
   "display_name": "Python 3 (ipykernel)",
   "language": "python",
   "name": "python3"
  },
  "language_info": {
   "codemirror_mode": {
    "name": "ipython",
    "version": 3
   },
   "file_extension": ".py",
   "mimetype": "text/x-python",
   "name": "python",
   "nbconvert_exporter": "python",
   "pygments_lexer": "ipython3",
   "version": "3.10.8"
  }
 },
 "nbformat": 4,
 "nbformat_minor": 5
}

