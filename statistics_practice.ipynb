{
 "cells": [
  {
   "cell_type": "code",
   "execution_count": null,
   "id": "b1a09257",
   "metadata": {},
   "outputs": [],
   "source": [
    "%matplotlib inline\n",
    "import matplotlib.pyplot as plt\n",
    "import numpy as np\n",
    "import pandas as pd\n",
    "import statsmodels.api as sm\n",
    "\n",
    "np.random.seed(123)"
   ]
  },
  {
   "cell_type": "code",
   "execution_count": null,
   "id": "c80223ba",
   "metadata": {},
   "outputs": [],
   "source": [
    "nsample = 100\n",
    "x = np.linspace(0, 10, 100)\n",
    "X = np.column_stack((x, x ** 2))\n",
    "beta = np.array([1, 0.1, 10])\n",
    "e = np.random.normal(size=nsample)"
   ]
  },
  {
   "cell_type": "code",
   "execution_count": null,
   "id": "66fa866a",
   "metadata": {},
   "outputs": [],
   "source": [
    "X = sm.add_constant(X)\n",
    "y = np.dot(X, beta) + e"
   ]
  },
  {
   "cell_type": "code",
   "execution_count": null,
   "id": "58956972",
   "metadata": {},
   "outputs": [],
   "source": [
    "model = sm.OLS(y, X)\n",
    "results = model.fit()\n",
    "print(results.summary())"
   ]
  },
  {
   "cell_type": "code",
   "execution_count": null,
   "id": "1ed96106",
   "metadata": {},
   "outputs": [],
   "source": [
    "from sklearn.datasets import load_iris\n",
    "iris = load_iris()"
   ]
  },
  {
   "cell_type": "code",
   "execution_count": null,
   "id": "907e997e",
   "metadata": {},
   "outputs": [],
   "source": [
    "import pandas as pd\n",
    "\n",
    "df = pd.DataFrame(iris.data, columns=iris.feature_names)\n",
    "df['Species'] = iris.target_names[iris.target]\n",
    "df.loc[df['Species'] == 0, 'Species'] = \"setosa\"\n",
    "df.loc[df['Species'] == 1, 'Species'] = \"versicolor\"\n",
    "df.loc[df['Species'] == 2, 'Species'] = \"virginica\""
   ]
  },
  {
   "cell_type": "code",
   "execution_count": null,
   "id": "cd7c74f4",
   "metadata": {},
   "outputs": [],
   "source": [
    "df = df.rename(columns={'sepal length (cm)': 'SepalLength', 'sepal width (cm)':'SepalWidth',\n",
    "                            'petal length (cm)':'PetalLength', 'petal width (cm)':'PetalWidth'})"
   ]
  },
  {
   "cell_type": "code",
   "execution_count": null,
   "id": "b730d2d8",
   "metadata": {},
   "outputs": [],
   "source": [
    "import seaborn as sns\n",
    "\n",
    "sns.pairplot(df, hue=\"Species\")"
   ]
  },
  {
   "cell_type": "code",
   "execution_count": null,
   "id": "0f744441",
   "metadata": {
    "scrolled": false
   },
   "outputs": [],
   "source": [
    "import numpy as np\n",
    "from scipy.stats import chi2_contingency\n",
    "#df.drop(columns='Species', inplace=True)\n",
    "chi2, p, dof, expected = chi2_contingency(df, correction=False)\n",
    "\n",
    "print(\"chi2's value\", chi2)\n",
    "print(\"p-value\", p)\n",
    "print(\"df\", dof)\n",
    "print(\"expected num:\", expected)"
   ]
  },
  {
   "cell_type": "code",
   "execution_count": null,
   "id": "fd7a2ba7",
   "metadata": {},
   "outputs": [],
   "source": []
  }
 ],
 "metadata": {
  "kernelspec": {
   "display_name": "Python 3 (ipykernel)",
   "language": "python",
   "name": "python3"
  },
  "language_info": {
   "codemirror_mode": {
    "name": "ipython",
    "version": 3
   },
   "file_extension": ".py",
   "mimetype": "text/x-python",
   "name": "python",
   "nbconvert_exporter": "python",
   "pygments_lexer": "ipython3",
   "version": "3.10.8"
  }
 },
 "nbformat": 4,
 "nbformat_minor": 5
}
