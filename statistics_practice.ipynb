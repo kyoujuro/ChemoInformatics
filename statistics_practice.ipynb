{
 "cells": [
  {
   "cell_type": "code",
   "execution_count": null,
   "id": "9492bc55",
   "metadata": {},
   "outputs": [],
   "source": [
    "%matplotlib inline\n",
    "import matplotlib.pyplot as plt\n",
    "import numpy as np\n",
    "import pandas as pd\n",
    "import statsmodels.api as sm\n",
    "\n",
    "np.random.seed(123)"
   ]
  },
  {
   "cell_type": "code",
   "execution_count": null,
   "id": "784c65e0",
   "metadata": {},
   "outputs": [],
   "source": [
    "nsample = 100\n",
    "x = np.linspace(0, 10, 100)\n",
    "X = np.column_stack((x, x ** 2))\n",
    "beta = np.array([1, 0.1, 10])\n",
    "e = np.random.normal(size=nsample)"
   ]
  },
  {
   "cell_type": "code",
   "execution_count": null,
   "id": "e6cb4994",
   "metadata": {},
   "outputs": [],
   "source": [
    "X = sm.add_constant(X)\n",
    "y = np.dot(X, beta) + e"
   ]
  },
  {
   "cell_type": "code",
   "execution_count": null,
   "id": "266103c0",
   "metadata": {},
   "outputs": [],
   "source": [
    "model = sm.OLS(y, X)\n",
    "results = model.fit()\n",
    "print(results.summary())"
   ]
  },
  {
   "cell_type": "code",
   "execution_count": null,
   "id": "e3d116fb",
   "metadata": {},
   "outputs": [],
   "source": [
    "from sklearn.datasets import load_iris\n",
    "iris = load_iris()"
   ]
  },
  {
   "cell_type": "code",
   "execution_count": null,
   "id": "49741c1a",
   "metadata": {},
   "outputs": [],
   "source": [
    "import pandas as pd\n",
    "\n",
    "df = pd.DataFrame(iris.data, columns=iris.feature_names)\n",
    "df['Species'] = iris.target_names[iris.target]\n",
    "df.loc[df['Species'] == 0, 'Species'] = \"setosa\"\n",
    "df.loc[df['Species'] == 1, 'Species'] = \"versicolor\"\n",
    "df.loc[df['Species'] == 2, 'Species'] = \"virginica\""
   ]
  },
  {
   "cell_type": "code",
   "execution_count": null,
   "id": "6a4ed564",
   "metadata": {},
   "outputs": [],
   "source": [
    "df = df.rename(columns={'sepal length (cm)': 'SepalLength', 'sepal width (cm)':'SepalWidth',\n",
    "                            'petal length (cm)':'PetalLength', 'petal width (cm)':'PetalWidth'})"
   ]
  },
  {
   "cell_type": "code",
   "execution_count": null,
   "id": "61d6356b",
   "metadata": {},
   "outputs": [],
   "source": [
    "import seaborn as sns\n",
    "\n",
    "sns.pairplot(df, hue=\"Species\")"
   ]
  },
  {
   "cell_type": "code",
   "execution_count": null,
   "id": "667b9683",
   "metadata": {
    "scrolled": false
   },
   "outputs": [],
   "source": [
    "import numpy as np\n",
    "from scipy.stats import chi2_contingency\n",
    "#df.drop(columns='Species', inplace=True)\n",
    "chi2, p, dof, expected = chi2_contingency(df, correction=False)\n",
    "\n",
    "print(\"chi2's value\", chi2)\n",
    "print(\"p-value\", p)\n",
    "print(\"df\", dof)\n",
    "print(\"expected num:\", expected)"
   ]
  },
  {
   "cell_type": "code",
   "execution_count": null,
   "id": "348c8202",
   "metadata": {},
   "outputs": [],
   "source": [
    "import pandas as pd\n",
    "import matplotlib.pyplot as plt\n",
    "from scipy.cluster.hierarchy import linkage, dendrogram"
   ]
  },
  {
   "cell_type": "code",
   "execution_count": null,
   "id": "69317000",
   "metadata": {},
   "outputs": [],
   "source": [
    "clu = linkage(df, method='average', metric='euclidean')\n",
    "\n",
    "plt.figure(num=None, figsize=(16, 9))\n",
    "dendrogram(clu, labels=df.index)\n",
    "plt.show()"
   ]
  },
  {
   "cell_type": "code",
   "execution_count": null,
   "id": "60abc07c",
   "metadata": {},
   "outputs": [],
   "source": [
    "df = duncan_prestige_df.drop(\"type\", axis=1)"
   ]
  },
  {
   "cell_type": "code",
   "execution_count": null,
   "id": "0e5a695d",
   "metadata": {},
   "outputs": [],
   "source": [
    "import statsmodels.api as sm\n",
    "duncan_prestige = sm.datasets.get_rdataset(\"Duncan\", \"carData\")"
   ]
  },
  {
   "cell_type": "code",
   "execution_count": null,
   "id": "7c3b567a",
   "metadata": {},
   "outputs": [],
   "source": [
    "duncan_prestige_df = pd.DataFrame(duncan_prestige.data)"
   ]
  },
  {
   "cell_type": "code",
   "execution_count": null,
   "id": "6a5244ec",
   "metadata": {},
   "outputs": [],
   "source": [
    "df = duncan_prestige_df.drop(\"type\", axis=1)"
   ]
  },
  {
   "cell_type": "code",
   "execution_count": null,
   "id": "ee4f8765",
   "metadata": {},
   "outputs": [],
   "source": [
    "duncan_prestige_df"
   ]
  },
  {
   "cell_type": "code",
   "execution_count": null,
   "id": "a544f063",
   "metadata": {},
   "outputs": [],
   "source": [
    "import statsmodels.stats.multitest as multi\n",
    "\n",
    "fdr = \"fdr_by\"\n",
    "bon = \"bonferroni\"\n",
    "np.random.seed(123)\n",
    "multi.multipletests(np.random.rand(100) / 1000, alpha=0.05, method=bon)"
   ]
  },
  {
   "cell_type": "code",
   "execution_count": null,
   "id": "5c919be6",
   "metadata": {},
   "outputs": [],
   "source": [
    "from sklearn.cluster import KMeans\n",
    "from sklearn.preprocessing import StandardScaler\n",
    "\n",
    "sc = StandardScaler()\n",
    "df_clusrtering_sc = sc.fit_transform(df)\n",
    "kmeans = KMeans(n_clusters=3, random_state=0)\n",
    "clusters = kmeans.fit(df_clusrtering_sc)\n",
    "df['cluster'] = clusters.labels_\n",
    "print(df['cluster'].unique())\n",
    "df.head()"
   ]
  },
  {
   "cell_type": "code",
   "execution_count": null,
   "id": "0c1b5044",
   "metadata": {},
   "outputs": [],
   "source": []
  }
 ],
 "metadata": {
  "kernelspec": {
   "display_name": "Python 3 (ipykernel)",
   "language": "python",
   "name": "python3"
  },
  "language_info": {
   "codemirror_mode": {
    "name": "ipython",
    "version": 3
   },
   "file_extension": ".py",
   "mimetype": "text/x-python",
   "name": "python",
   "nbconvert_exporter": "python",
   "pygments_lexer": "ipython3",
   "version": "3.10.8"
  }
 },
 "nbformat": 4,
 "nbformat_minor": 5
}
