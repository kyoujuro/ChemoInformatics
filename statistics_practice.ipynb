{
 "cells": [
  {
   "cell_type": "code",
   "execution_count": null,
   "id": "4bf7795d",
   "metadata": {},
   "outputs": [],
   "source": [
    "%matplotlib inline\n",
    "import matplotlib.pyplot as plt\n",
    "import numpy as np\n",
    "import pandas as pd\n",
    "import statsmodels.api as sm\n",
    "\n",
    "np.random.seed(123)"
   ]
  },
  {
   "cell_type": "code",
   "execution_count": null,
   "id": "cbc7a8aa",
   "metadata": {},
   "outputs": [],
   "source": [
    "nsample = 100\n",
    "x = np.linspace(0, 10, 100)\n",
    "X = np.column_stack((x, x ** 2))\n",
    "beta = np.array([1, 0.1, 10])\n",
    "e = np.random.normal(size=nsample)"
   ]
  },
  {
   "cell_type": "code",
   "execution_count": null,
   "id": "a6d411f2",
   "metadata": {},
   "outputs": [],
   "source": [
    "X = sm.add_constant(X)\n",
    "y = np.dot(X, beta) + e"
   ]
  },
  {
   "cell_type": "code",
   "execution_count": null,
   "id": "99fa0083",
   "metadata": {},
   "outputs": [],
   "source": [
    "model = sm.OLS(y, X)\n",
    "results = model.fit()\n",
    "print(results.summary())"
   ]
  },
  {
   "cell_type": "code",
   "execution_count": null,
   "id": "e828623e",
   "metadata": {},
   "outputs": [],
   "source": [
    "from sklearn.datasets import load_iris\n",
    "iris = load_iris()"
   ]
  },
  {
   "cell_type": "code",
   "execution_count": null,
   "id": "f37ea1c2",
   "metadata": {},
   "outputs": [],
   "source": [
    "import pandas as pd\n",
    "\n",
    "df = pd.DataFrame(iris.data, columns=iris.feature_names)\n",
    "df['Species'] = iris.target_names[iris.target]\n",
    "df.loc[df['Species'] == 0, 'Species'] = \"setosa\"\n",
    "df.loc[df['Species'] == 1, 'Species'] = \"versicolor\"\n",
    "df.loc[df['Species'] == 2, 'Species'] = \"virginica\""
   ]
  },
  {
   "cell_type": "code",
   "execution_count": null,
   "id": "0d96c881",
   "metadata": {},
   "outputs": [],
   "source": [
    "df = df.rename(columns={'sepal length (cm)': 'SepalLength', 'sepal width (cm)':'SepalWidth',\n",
    "                            'petal length (cm)':'PetalLength', 'petal width (cm)':'PetalWidth'})"
   ]
  },
  {
   "cell_type": "code",
   "execution_count": null,
   "id": "246726eb",
   "metadata": {},
   "outputs": [],
   "source": [
    "import seaborn as sns\n",
    "\n",
    "sns.pairplot(df, hue=\"Species\")"
   ]
  },
  {
   "cell_type": "code",
   "execution_count": null,
   "id": "91c50fa2",
   "metadata": {
    "scrolled": false
   },
   "outputs": [],
   "source": [
    "import numpy as np\n",
    "from scipy.stats import chi2_contingency\n",
    "#df.drop(columns='Species', inplace=True)\n",
    "chi2, p, dof, expected = chi2_contingency(df, correction=False)\n",
    "\n",
    "print(\"chi2's value\", chi2)\n",
    "print(\"p-value\", p)\n",
    "print(\"df\", dof)\n",
    "print(\"expected num:\", expected)"
   ]
  },
  {
   "cell_type": "code",
   "execution_count": null,
   "id": "dedeebaf",
   "metadata": {},
   "outputs": [],
   "source": [
    "import pandas as pd\n",
    "import matplotlib.pyplot as plt\n",
    "from scipy.cluster.hierarchy import linkage, dendrogram"
   ]
  },
  {
   "cell_type": "code",
   "execution_count": null,
   "id": "f42cc38a",
   "metadata": {},
   "outputs": [],
   "source": [
    "clu = linkage(df, method='average', metric='euclidean')\n",
    "\n",
    "plt.figure(num=None, figsize=(16, 9))\n",
    "dendrogram(clu, labels=df.index)\n",
    "plt.show()"
   ]
  },
  {
   "cell_type": "code",
   "execution_count": null,
   "id": "3b7c5dee",
   "metadata": {},
   "outputs": [],
   "source": [
    "df = duncan_prestige_df.drop(\"type\", axis=1)"
   ]
  },
  {
   "cell_type": "code",
   "execution_count": null,
   "id": "7812a74d",
   "metadata": {},
   "outputs": [],
   "source": [
    "import statsmodels.api as sm\n",
    "duncan_prestige = sm.datasets.get_rdataset(\"Duncan\", \"carData\")"
   ]
  },
  {
   "cell_type": "code",
   "execution_count": null,
   "id": "f8e36caf",
   "metadata": {},
   "outputs": [],
   "source": [
    "duncan_prestige_df = pd.DataFrame(duncan_prestige.data)"
   ]
  },
  {
   "cell_type": "code",
   "execution_count": null,
   "id": "a2d127bc",
   "metadata": {},
   "outputs": [],
   "source": [
    "df = duncan_prestige_df.drop(\"type\", axis=1)"
   ]
  },
  {
   "cell_type": "code",
   "execution_count": null,
   "id": "6a501bbc",
   "metadata": {},
   "outputs": [],
   "source": [
    "duncan_prestige_df"
   ]
  },
  {
   "cell_type": "code",
   "execution_count": null,
   "id": "1878482e",
   "metadata": {},
   "outputs": [],
   "source": [
    "import statsmodels.stats.multitest as multi\n",
    "\n",
    "fdr = \"fdr_by\"\n",
    "bon = \"bonferroni\"\n",
    "np.random.seed(123)\n",
    "multi.multipletests(np.random.rand(100) / 1000, alpha=0.05, method=bon)"
   ]
  },
  {
   "cell_type": "code",
   "execution_count": null,
   "id": "d1b0ac28",
   "metadata": {},
   "outputs": [],
   "source": [
    "from sklearn.cluster import KMeans\n",
    "from sklearn.preprocessing import StandardScaler\n",
    "\n",
    "sc = StandardScaler()\n",
    "df_clusrtering_sc = sc.fit_transform(df)\n",
    "kmeans = KMeans(n_clusters=3, random_state=0)\n",
    "clusters = kmeans.fit(df_clusrtering_sc)\n",
    "df['cluster'] = clusters.labels_\n",
    "print(df['cluster'].unique())\n",
    "df.head()"
   ]
  },
  {
   "cell_type": "code",
   "execution_count": null,
   "id": "0e41e1fe",
   "metadata": {},
   "outputs": [],
   "source": [
    "p_value_correction_list = [\"bonferroni\", \"sidak\", \"holm-sidak\",\n",
    "                           \"holm\", \"simes-hochberg\", \"hommel\", \"fdr_bh\",\n",
    "                           \"fdr_by\", \"fdr_tsbh\", \"fdr_tsbky\"]\n",
    "np.random.seed(1234)\n",
    "p_list = np.random.rand(100) / 30\n",
    "p_list.sort()\n",
    "for p_value_correction in p_value_correction_list:\n",
    "    true_ndarray = multi.multipletests(\n",
    "        p_list, alpha=0.1, method=p_value_correction)[0]\n",
    "    print(\"{} True count is {} \".format(\n",
    "        p_value_correction, np.sum(true_ndarray == True)))"
   ]
  },
  {
   "cell_type": "code",
   "execution_count": null,
   "id": "8b9d5a1f",
   "metadata": {},
   "outputs": [],
   "source": [
    "\n",
    "import pandas as pd\n",
    "import numpy as np\n",
    "from lifelines import *\n",
    "from lifelines.utils import median_survival_times\n",
    "import matplotlib.pyplot as plt \n",
    "\n",
    "plt.style.use('ggplot')\n",
    "plt.rcParams['figure.figsize'] = [12, 9]\n",
    "plt.show()"
   ]
  }
 ],
 "metadata": {
  "kernelspec": {
   "display_name": "Python 3 (ipykernel)",
   "language": "python",
   "name": "python3"
  },
  "language_info": {
   "codemirror_mode": {
    "name": "ipython",
    "version": 3
   },
   "file_extension": ".py",
   "mimetype": "text/x-python",
   "name": "python",
   "nbconvert_exporter": "python",
   "pygments_lexer": "ipython3",
   "version": "3.10.8"
  }
 },
 "nbformat": 4,
 "nbformat_minor": 5
}
